{
 "cells": [
  {
   "cell_type": "markdown",
   "id": "ee4c6ee9",
   "metadata": {},
   "source": [
    "# TP de Diferenciación Numérica\n",
    "\n",
    "## Ejercicio especial Covid-19\n",
    "\n",
    "##### Grupo 4: \n",
    "- Costa Felipe\n",
    "- Gutierrez Juan Santiago\n",
    "- Indeau Federico\n",
    "- Lucero Julieta\n",
    "\n",
    "### Código\n",
    "\n",
    "Utilizando python 3.12 \n",
    "\n",
    "Se definieron las siguientes funciones, \n",
    "El código se aloja en [github](https://github.com/JuanSantiagoGutierrez/Cal_Num)\n",
    "\n"
   ]
  },
  {
   "cell_type": "code",
   "execution_count": 2,
   "id": "b6d66e01",
   "metadata": {},
   "outputs": [],
   "source": [
    "import numpy as np\n",
    "import math\n",
    "import pandas as pd\n",
    "import scipy as sc\n",
    "\n",
    "def generar_indices(n: int, traslacion:int = 0) -> np.array:\n",
    "    \"\"\"Genera un array simétrico de n/2 enteros alrededor de cero incluyendo el 0 \\n\n",
    "    ,y si n es par prefiere a la derecha \\n\n",
    "    Traslada el array antes de devolverlo\"\"\"\n",
    "    array = np.arange(-int(n/2), int(n/2)+1)\n",
    "    if n%2 == 0:\n",
    "        array = array[1:]\n",
    "    return array + traslacion\n",
    "\n",
    "def gen_matrix(derivada: int = 1, truncamiento: int = 2, traslacion: int = 0) -> np.ndarray:\n",
    "    \"\"\"Crea una matrix cuadrada para el calculo una n-derivada usando expansiones de Taylor alrededor de un punto\"\"\"\n",
    "    puntos = derivada + truncamiento\n",
    "    indices = generar_indices(puntos, traslacion)\n",
    "    \n",
    "    # Definir una matrix cuadrada vacia\n",
    "    A = np.ones((puntos,puntos))\n",
    "\n",
    "    # Los elementos de la matrix se calculan así\n",
    "    def coef(i:int ,j:int) -> float:\n",
    "        return math.pow(j,i) / math.factorial(i)\n",
    "\n",
    "    # Recorrer la matrix y generar cada elemento\n",
    "    for i in range(puntos):\n",
    "        for j in indices:\n",
    "            k = j + sum(1 for i in indices if indices[i] < 0) # Ajusta el indice j, con el indice de la matrix de forma que indices[0] -> i,0 de la matrix\n",
    "            A[i][k] = round(coef(i=i,j=j), truncamiento + 2)\n",
    "            \n",
    "    # Retornar la matrix\n",
    "    return A\n",
    "        \n",
    "def coef_derivada(matrix: np.ndarray[float], derivada:int =1) -> np.ndarray[float]:\n",
    "    \"\"\"gen_matrix() -> A\\n\n",
    "    Matrix A para derivadas, aplica las condiciones para la n-derivada\\n\n",
    "    devolviendo los coeficientes X \\n \n",
    "    X -> evaluar_derivada()\"\"\"\n",
    "    # Define un vector vacio y aplica las condiciones \n",
    "    v = np.zeros((len(matrix)))\n",
    "    v[derivada] = 1\n",
    "    # Resuelve el sistema y lo retorna\n",
    "    return np.linalg.solve(a=matrix, b=v)\n",
    "\n",
    "def evaluar_derivada(X:np.ndarray,f:np.ufunc ,x:float=0.0, dx: float = 0.1, traslacion:int = 0, derivada:int = 1) -> float:\n",
    "    \"\"\"coef_derivada() -> X \\n\n",
    "    Evalua la derivada en un punto en base a los coeficientes X y a cual derivada se dirije \\n\n",
    "    -> f'(x)\"\"\"\n",
    "    df = 0\n",
    "    # Usa los coeficientes de X y los índices de los puntos para calcular df, recorriendo ambos arrays en simultaneo. \n",
    "    for i,j in zip(X, generar_indices(len(X), traslacion)): \n",
    "        df += i * f(x + j * dx )\n",
    "    return df / math.pow(dx,derivada)\n",
    "\n",
    "def derivar(x:float,f:np.ufunc,dx:float,derivada: int =1, orden:int = 2, traslacion:int=0)-> float:\n",
    "    \"\"\"Deriva una funcion númericamente, usando expansiones de Taylor y orden de Landau\"\"\"\n",
    "    # Calcular la matrix, por defecto da la 1er derivada\n",
    "    A = gen_matrix(derivada=derivada,truncamiento=orden,traslacion= traslacion)\n",
    "   \n",
    "    # Calcular los coeficientes\n",
    "    X = coef_derivada(matrix=A,derivada=derivada)\n",
    "    \n",
    "    # Evaluar la derivada\n",
    "    df = evaluar_derivada(X=X, f=f, x=x, dx=dx,traslacion=traslacion, derivada=derivada)\n",
    "    return df\n",
    "\n",
    "def extrapolacion_Richarson(D0:float, D1:float, dx0:float, dx1:float, n:int)-> tuple[float]:\n",
    "    \"\"\"Aproximación de Richarson, El orden aumenta en e^(n+2)\"\"\"\n",
    "    df = np.round(D0 + ((D0 - D1)/(math.pow((dx1/dx0),n)-1)),5) \n",
    "    err = abs(np.round((D0-D1)/(math.pow(dx1,n)-math.pow(dx0,n)),5))\n",
    "    return (df, err)"
   ]
  },
  {
   "cell_type": "markdown",
   "id": "823bd1bb",
   "metadata": {},
   "source": [
    "### Datos y guía\n",
    "Con las funciones anteriormente definidas se realizan los ejercicios en la guía de ejercicios: \n",
    "* *Ejercicio especial Derivacion 2021.pdf*\n",
    "\n",
    "Con datos extraídos de https://www.argentina.gob.ar/coronavirus/informe-diario en uno de los reportes diarios. \n",
    "* En partícular: *\"Reporte diario COVID-19.csv\"*\n",
    "\n",
    "### Resolución\n",
    "\n",
    "- La resolución consta de el código realizado y la salida. Para los ejercicios 1, 2, 3, 5 se utiliza el siguiente código. \n",
    "- Se presentan los 5 primeros datos."
   ]
  },
  {
   "cell_type": "code",
   "execution_count": 15,
   "id": "c8dbf0be",
   "metadata": {},
   "outputs": [],
   "source": [
    "DF = pd.read_csv(\"../Data/Reporte diario COVID-19.csv\")"
   ]
  },
  {
   "cell_type": "code",
   "execution_count": 16,
   "id": "f4e221cc",
   "metadata": {},
   "outputs": [
    {
     "name": "stdout",
     "output_type": "stream",
     "text": [
      "   dia  nuevo  acumulado  df_ejer1\n",
      "0    1      1          1      -3.5\n",
      "1    2      1          2       5.5\n",
      "2    3      3         12       7.5\n",
      "3    4      5         17       3.5\n",
      "4    5      2         19       2.0\n"
     ]
    }
   ],
   "source": [
    "\"\"\"1. Aproxime la derivada primera para cada día con un esquema de orden 2 y un paso de 1 día.\"\"\"\n",
    "def ejer1(DF):\n",
    "    # Variables\n",
    "    traslacion = 1\n",
    "    derivada = 1\n",
    "    orden = 2\n",
    "    pasos = 1 # \n",
    "    def contagios(dia):\n",
    "        return DF[\"acumulado\"][dia-1]\n",
    "    L = []\n",
    "    for dia in DF[\"dia\"]:\n",
    "        traslacion = 0\n",
    "        while True:\n",
    "            try:\n",
    "                df = derivar(x=dia, f=contagios, dx=pasos, derivada=derivada, orden=orden, traslacion=traslacion)\n",
    "                break\n",
    "            except:\n",
    "                if dia < len(DF)//2: traslacion+=1 \n",
    "                else: traslacion-=1\n",
    "        L += [df]\n",
    "    DF = DF.assign(df_ejer1 = L)\n",
    "    print(DF.head())\n",
    "    return DF\n",
    "DF = ejer1(DF)"
   ]
  },
  {
   "cell_type": "code",
   "execution_count": 17,
   "id": "2d582586",
   "metadata": {},
   "outputs": [
    {
     "name": "stdout",
     "output_type": "stream",
     "text": [
      "   dia  nuevo  acumulado  df_ejer1  df_ejer2\n",
      "0    1      1          1      -3.5      6.50\n",
      "1    2      1          2       5.5     10.25\n",
      "2    3      3         12       7.5      4.50\n",
      "3    4      5         17       3.5      4.75\n",
      "4    5      2         19       2.0      4.75\n"
     ]
    }
   ],
   "source": [
    "def ejer2(DF):\n",
    "    # Variables\n",
    "    traslacion = 1\n",
    "    derivada = 1\n",
    "    orden = 2\n",
    "    pasos = 2 # \n",
    "    def contagios(dia):\n",
    "        return DF[\"acumulado\"][dia-1]\n",
    "    L = []\n",
    "    for dia in DF[\"dia\"]:\n",
    "        traslacion = 0\n",
    "        while True:\n",
    "            try:\n",
    "                df = derivar(x=dia, f=contagios, dx=pasos, derivada=derivada, orden=orden, traslacion=traslacion)\n",
    "                break\n",
    "            except:\n",
    "                if dia < len(DF)//2: traslacion+=1 \n",
    "                else: traslacion-=1\n",
    "        L += [df]\n",
    "    DF = DF.assign(df_ejer2 = L)\n",
    "    print(DF.head())\n",
    "    return DF\n",
    "DF = ejer2(DF)"
   ]
  },
  {
   "cell_type": "code",
   "execution_count": 18,
   "id": "5739d99e",
   "metadata": {},
   "outputs": [
    {
     "name": "stdout",
     "output_type": "stream",
     "text": [
      "   dia  nuevo  acumulado  df_ejer1  df_ejer2  df1_Richarson_4_O  \\\n",
      "0    1      1          1      -3.5      6.50           -6.83333   \n",
      "1    2      1          2       5.5     10.25            3.91667   \n",
      "2    3      3         12       7.5      4.50            8.50000   \n",
      "3    4      5         17       3.5      4.75            3.08333   \n",
      "4    5      2         19       2.0      4.75            1.08333   \n",
      "\n",
      "   df1_Richarson_error  \n",
      "0              3.33333  \n",
      "1              1.58333  \n",
      "2              1.00000  \n",
      "3              0.41667  \n",
      "4              0.91667  \n"
     ]
    }
   ],
   "source": [
    "\"\"\"3. Mejore la aproximación usando la extrapolación de Richardson O(dx4).\"\"\"\n",
    "def ejer3(DF):\n",
    "    def D1(dia):\n",
    "        return DF[\"df_ejer1\"][dia-1]\n",
    "    def D0(dia):\n",
    "        return DF[\"df_ejer2\"][dia-1]\n",
    "    L = []\n",
    "    L1= []\n",
    "    for dia in DF[\"dia\"]:\n",
    "        df = extrapolacion_Richarson(D0=D0(dia), D1=D1(dia), dx0=2, dx1=1, n=2)\n",
    "        L += [df[0]]\n",
    "        L1 += [df[1]]\n",
    "    DF = DF.assign(df1_Richarson_4_O = L)\n",
    "    DF = DF.assign(df1_Richarson_error = L1)\n",
    "    print(DF.head())\n",
    "    return DF\n",
    "DF = ejer3(DF)"
   ]
  },
  {
   "cell_type": "code",
   "execution_count": 12,
   "id": "60a60ffe",
   "metadata": {},
   "outputs": [],
   "source": [
    "\"\"\"4. Determine una fórmula de derivación centrada que sea de orden O(dx⁴).\"\"\" \n",
    "def ejer4(DF):\n",
    "    derivada = 1\n",
    "    traslacion = 0\n",
    "    orden = 4\n",
    "    A = gen_matrix(derivada=derivada, truncamiento=orden, traslacion=traslacion)\n",
    "    X = coef_derivada(A, derivada=derivada)\n",
    "    X = np.round(X,5)\n",
    "    print(f\"({X[0]}*f-2 + {X[1]}*f-1+ {X[2]}*f0 + {X[3]}*f1+ {X[4]}*f2)/dx\")\n",
    "    return DF"
   ]
  },
  {
   "cell_type": "code",
   "execution_count": 25,
   "id": "5dbd7bb9",
   "metadata": {},
   "outputs": [
    {
     "name": "stdout",
     "output_type": "stream",
     "text": [
      "   dia  nuevo  acumulado  df_ejer1  df_ejer2  df1_Richarson_4_O  \\\n",
      "3    4      5         17       3.5      4.75            3.08333   \n",
      "4    5      2         19       2.0      4.75            1.08333   \n",
      "5    6      2         21       6.0      4.25            6.58333   \n",
      "6    7     10         31       6.5      6.50            6.50000   \n",
      "7    8      3         34       7.0      8.75            6.41667   \n",
      "\n",
      "   df1_Richarson_error   df_ejer5  \n",
      "3              0.41667  10.416577  \n",
      "4              0.91667  -1.250009  \n",
      "5              0.58333   6.583335  \n",
      "6              0.00000   6.500000  \n",
      "7              0.58333   6.416665  \n"
     ]
    }
   ],
   "source": [
    "\"\"\"5. Aproxime la derivada primera para cada día con el esquema de orden 4 y un paso de 1 día.\"\"\"\n",
    "def ejer5(DF):\n",
    "    # Variables\n",
    "    traslacion = 0\n",
    "    derivada = 1\n",
    "    orden = 4\n",
    "    pasos = 1 \n",
    "    def contagios(dia):\n",
    "        return DF[\"acumulado\"][dia-1]\n",
    "    L = []\n",
    "    for dia in DF[\"dia\"]:\n",
    "        traslacion = 0\n",
    "        while True:\n",
    "            try:\n",
    "                df = derivar(x=dia, f=contagios, dx=pasos, derivada=derivada, orden=orden, traslacion=traslacion)\n",
    "                break\n",
    "            except:\n",
    "                if dia < len(DF)//2: traslacion+=1 \n",
    "                else: traslacion-=1\n",
    "        L += [df]\n",
    "    DF = DF.assign(df_ejer5= L)\n",
    "    print(DF.head(5))\n",
    "    return DF\n",
    "DF = ejer5(DF)"
   ]
  }
 ],
 "metadata": {
  "kernelspec": {
   "display_name": ".venv",
   "language": "python",
   "name": "python3"
  },
  "language_info": {
   "codemirror_mode": {
    "name": "ipython",
    "version": 3
   },
   "file_extension": ".py",
   "mimetype": "text/x-python",
   "name": "python",
   "nbconvert_exporter": "python",
   "pygments_lexer": "ipython3",
   "version": "3.12.3"
  }
 },
 "nbformat": 4,
 "nbformat_minor": 5
}
